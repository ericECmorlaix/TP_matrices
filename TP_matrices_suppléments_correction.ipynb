{
 "cells": [
  {
   "cell_type": "markdown",
   "metadata": {},
   "source": [
    "# Autres propositions d'animation :\n",
    "\n",
    "## Avec IPythonBlocks :"
   ]
  },
  {
   "cell_type": "code",
   "execution_count": 32,
   "metadata": {},
   "outputs": [
    {
     "data": {
      "text/html": [
       "<style type=\"text/css\">table.blockgrid {border: none;} .blockgrid tr {border: none;} .blockgrid td {padding: 0px;} #blocksec98ecd7-f775-4d4a-ab10-fb7e1ced7d3e td {border: 1px solid white;}</style><table id=\"blocksec98ecd7-f775-4d4a-ab10-fb7e1ced7d3e\" class=\"blockgrid\"><tbody><tr><td title=\"Index: [0, 0]&#10;Color: (141, 0, 0)\" style=\"width: 30px; height: 30px;background-color: rgb(141, 0, 0);\"></td><td title=\"Index: [0, 1]&#10;Color: (170, 0, 0)\" style=\"width: 30px; height: 30px;background-color: rgb(170, 0, 0);\"></td><td title=\"Index: [0, 2]&#10;Color: (198, 0, 0)\" style=\"width: 30px; height: 30px;background-color: rgb(198, 0, 0);\"></td><td title=\"Index: [0, 3]&#10;Color: (226, 0, 0)\" style=\"width: 30px; height: 30px;background-color: rgb(226, 0, 0);\"></td><td title=\"Index: [0, 4]&#10;Color: (255, 0, 0)\" style=\"width: 30px; height: 30px;background-color: rgb(255, 0, 0);\"></td></tr><tr><td title=\"Index: [1, 0]&#10;Color: (113, 0, 0)\" style=\"width: 30px; height: 30px;background-color: rgb(113, 0, 0);\"></td><td title=\"Index: [1, 1]&#10;Color: (141, 0, 0)\" style=\"width: 30px; height: 30px;background-color: rgb(141, 0, 0);\"></td><td title=\"Index: [1, 2]&#10;Color: (170, 0, 0)\" style=\"width: 30px; height: 30px;background-color: rgb(170, 0, 0);\"></td><td title=\"Index: [1, 3]&#10;Color: (198, 0, 0)\" style=\"width: 30px; height: 30px;background-color: rgb(198, 0, 0);\"></td><td title=\"Index: [1, 4]&#10;Color: (226, 0, 0)\" style=\"width: 30px; height: 30px;background-color: rgb(226, 0, 0);\"></td></tr><tr><td title=\"Index: [2, 0]&#10;Color: (85, 0, 0)\" style=\"width: 30px; height: 30px;background-color: rgb(85, 0, 0);\"></td><td title=\"Index: [2, 1]&#10;Color: (113, 0, 0)\" style=\"width: 30px; height: 30px;background-color: rgb(113, 0, 0);\"></td><td title=\"Index: [2, 2]&#10;Color: (141, 0, 0)\" style=\"width: 30px; height: 30px;background-color: rgb(141, 0, 0);\"></td><td title=\"Index: [2, 3]&#10;Color: (170, 0, 0)\" style=\"width: 30px; height: 30px;background-color: rgb(170, 0, 0);\"></td><td title=\"Index: [2, 4]&#10;Color: (198, 0, 0)\" style=\"width: 30px; height: 30px;background-color: rgb(198, 0, 0);\"></td></tr><tr><td title=\"Index: [3, 0]&#10;Color: (56, 0, 0)\" style=\"width: 30px; height: 30px;background-color: rgb(56, 0, 0);\"></td><td title=\"Index: [3, 1]&#10;Color: (85, 0, 0)\" style=\"width: 30px; height: 30px;background-color: rgb(85, 0, 0);\"></td><td title=\"Index: [3, 2]&#10;Color: (113, 0, 0)\" style=\"width: 30px; height: 30px;background-color: rgb(113, 0, 0);\"></td><td title=\"Index: [3, 3]&#10;Color: (141, 0, 0)\" style=\"width: 30px; height: 30px;background-color: rgb(141, 0, 0);\"></td><td title=\"Index: [3, 4]&#10;Color: (170, 0, 0)\" style=\"width: 30px; height: 30px;background-color: rgb(170, 0, 0);\"></td></tr><tr><td title=\"Index: [4, 0]&#10;Color: (28, 0, 0)\" style=\"width: 30px; height: 30px;background-color: rgb(28, 0, 0);\"></td><td title=\"Index: [4, 1]&#10;Color: (56, 0, 0)\" style=\"width: 30px; height: 30px;background-color: rgb(56, 0, 0);\"></td><td title=\"Index: [4, 2]&#10;Color: (85, 0, 0)\" style=\"width: 30px; height: 30px;background-color: rgb(85, 0, 0);\"></td><td title=\"Index: [4, 3]&#10;Color: (113, 0, 0)\" style=\"width: 30px; height: 30px;background-color: rgb(113, 0, 0);\"></td><td title=\"Index: [4, 4]&#10;Color: (141, 0, 0)\" style=\"width: 30px; height: 30px;background-color: rgb(141, 0, 0);\"></td></tr></tbody></table>"
      ],
      "text/plain": [
       "<IPython.core.display.HTML object>"
      ]
     },
     "metadata": {},
     "output_type": "display_data"
    }
   ],
   "source": [
    "from ipythonblocks import BlockGrid\n",
    "\n",
    "def affiche_ipythonblocks(matrice) :\n",
    "    maGrille = BlockGrid(5,5, fill=(0, 0, 0), block_size=30)\n",
    "    for i in range(len(matrice)) :\n",
    "        for j in range(len(matrice[i])) :\n",
    "            maGrille[i,j]=(matrice[i][j]*255//9, 0, 0)\n",
    "    return maGrille\n",
    "\n",
    "def transpose(matrice) :   \n",
    "    return [ [matrice[j][i] for j in range(len(matrice)) ] for i in range(len(matrice[0]))]\n",
    "\n",
    "degrade_Est = [[j for j in range(10) if j % 2 == 1] for i in range(5)]\n",
    "degrade_Sud = transpose(degrade_Est)\n",
    "degrade_Ouest = [[10 - j for j in degrade_Est[i]] for i in range(5)] \n",
    "degrade_Nord = transpose(degrade_Ouest)\n",
    "degrade_Sud_Est = [[(1+j+i) for j in range(5)] for i in range(5)]\n",
    "degrade_Nord_Est = degrade_Sud_Est[::-1]\n",
    "degrade_Nord_Ouest = [[(9-j-i) for j in range(5)] for i in range(5)]\n",
    "degrade_Sud_Ouest = degrade_Nord_Ouest[::-1]\n",
    "\n",
    "ecrans = [degrade_Est,\n",
    "          degrade_Sud_Est,\n",
    "          degrade_Sud,\n",
    "          degrade_Sud_Ouest,\n",
    "          degrade_Ouest,\n",
    "          degrade_Nord_Ouest,\n",
    "          degrade_Nord,\n",
    "          degrade_Nord_Est]            \n",
    "            \n",
    "k = 0\n",
    " \n",
    "while k < 5 * len(ecrans) :\n",
    "    affiche_ipythonblocks(ecrans[k % len(ecrans)]).flash(display_time=0.5)    \n",
    "    k+=1"
   ]
  },
  {
   "cell_type": "markdown",
   "metadata": {},
   "source": [
    "## Sur BBC micro:bit :"
   ]
  },
  {
   "cell_type": "code",
   "execution_count": null,
   "metadata": {},
   "outputs": [],
   "source": [
    "from microbit import *\n",
    "\n",
    "def affiche_microbit(matrice) :\n",
    "    for i in range(len(matrice)) :\n",
    "        for j in range(len(matrice[i])) :\n",
    "            display.set_pixel(j,i,matrice[i][j])\n",
    "    return\n",
    "\n",
    "def transpose(matrice) :   \n",
    "    return [ [matrice[j][i] for j in range(len(matrice)) ] for i in range(len(matrice[0]))]\n",
    "\n",
    "degrade_Est = [[j for j in range(10) if j % 2 == 1] for i in range(5)]\n",
    "degrade_Sud = transpose(degrade_Est)\n",
    "degrade_Ouest = [[10 - j for j in degrade_Est[i]] for i in range(5)] # Version 1\n",
    "# degrade_Ouest = [[j for j in range(10) if j % 2 == 1][::-1] for i in range(5)] # Version 2 ne fonctionne pas sur TigerJython\n",
    "degrade_Nord = transpose(degrade_Ouest)\n",
    "degrade_Sud_Est = [[(1+j+i) for j in range(5)] for i in range(5)]\n",
    "degrade_Nord_Est = degrade_Sud_Est[::-1]\n",
    "degrade_Nord_Ouest = [[(9-j-i) for j in range(5)] for i in range(5)]\n",
    "degrade_Sud_Ouest = degrade_Nord_Ouest[::-1]\n",
    "\n",
    "ecrans = [degrade_Est,\n",
    "          degrade_Sud_Est,\n",
    "          degrade_Sud,\n",
    "          degrade_Sud_Ouest,\n",
    "          degrade_Ouest,\n",
    "          degrade_Nord_Ouest,\n",
    "          degrade_Nord,\n",
    "          degrade_Nord_Est]            \n",
    "            \n",
    "k = 0\n",
    " \n",
    "while k < 7 * len(ecrans) :\n",
    "    affiche_microbit(ecrans[k % len(ecrans)])\n",
    "    sleep(1000)\n",
    "    k+=1"
   ]
  },
  {
   "cell_type": "markdown",
   "metadata": {},
   "source": [
    "# Décomposition étape par étape avec affichage Latex :"
   ]
  },
  {
   "cell_type": "code",
   "execution_count": 33,
   "metadata": {},
   "outputs": [],
   "source": [
    "from IPython.display import Latex\n",
    "\n",
    "def affiche_latex(matrice) :\n",
    "    \n",
    "    S = '$$\\\\begin{pmatrix}'\n",
    "    for i in range(len(matrice)) :\n",
    "        S += '&'\n",
    "        for j in range(len(matrice[i])) :\n",
    "            S += f' {matrice[i][j]} &'\n",
    "        S +=\" \\\\\\\\\"\n",
    "    S +='\\\\end{pmatrix}$$'\n",
    "    return Latex(S)"
   ]
  },
  {
   "cell_type": "code",
   "execution_count": 34,
   "metadata": {},
   "outputs": [],
   "source": [
    "from ipythonblocks import BlockGrid\n",
    "\n",
    "def affiche_ipythonblocks(matrice) :\n",
    "    maGrille = BlockGrid(5,5, fill=(0, 0, 0), block_size=30)\n",
    "    for i in range(len(matrice)) :\n",
    "        for j in range(len(matrice[i])) :\n",
    "            maGrille[i,j]=(matrice[i][j]*255//9, 0, 0)\n",
    "    return maGrille"
   ]
  },
  {
   "cell_type": "code",
   "execution_count": 35,
   "metadata": {},
   "outputs": [],
   "source": [
    "def transpose(matrice) :   \n",
    "    return [ [matrice[j][i] for j in range(len(matrice)) ] for i in range(len(matrice[0]))]"
   ]
  },
  {
   "cell_type": "code",
   "execution_count": 36,
   "metadata": {},
   "outputs": [
    {
     "data": {
      "text/latex": [
       "$$\\begin{pmatrix}& 1 & 3 & 5 & 7 & 9 & \\\\& 1 & 3 & 5 & 7 & 9 & \\\\& 1 & 3 & 5 & 7 & 9 & \\\\& 1 & 3 & 5 & 7 & 9 & \\\\& 1 & 3 & 5 & 7 & 9 & \\\\\\end{pmatrix}$$"
      ],
      "text/plain": [
       "<IPython.core.display.Latex object>"
      ]
     },
     "execution_count": 36,
     "metadata": {},
     "output_type": "execute_result"
    }
   ],
   "source": [
    "degrade_Est = [[j for j in range(10) if j % 2 == 1] for i in range(5)]\n",
    "affiche_latex(degrade_Est)"
   ]
  },
  {
   "cell_type": "code",
   "execution_count": 37,
   "metadata": {},
   "outputs": [
    {
     "data": {
      "text/html": [
       "<style type=\"text/css\">table.blockgrid {border: none;} .blockgrid tr {border: none;} .blockgrid td {padding: 0px;} #blocks3964ebcc-148d-4706-a9d9-6cc7e456fd3a td {border: 1px solid white;}</style><table id=\"blocks3964ebcc-148d-4706-a9d9-6cc7e456fd3a\" class=\"blockgrid\"><tbody><tr><td title=\"Index: [0, 0]&#10;Color: (28, 0, 0)\" style=\"width: 30px; height: 30px;background-color: rgb(28, 0, 0);\"></td><td title=\"Index: [0, 1]&#10;Color: (85, 0, 0)\" style=\"width: 30px; height: 30px;background-color: rgb(85, 0, 0);\"></td><td title=\"Index: [0, 2]&#10;Color: (141, 0, 0)\" style=\"width: 30px; height: 30px;background-color: rgb(141, 0, 0);\"></td><td title=\"Index: [0, 3]&#10;Color: (198, 0, 0)\" style=\"width: 30px; height: 30px;background-color: rgb(198, 0, 0);\"></td><td title=\"Index: [0, 4]&#10;Color: (255, 0, 0)\" style=\"width: 30px; height: 30px;background-color: rgb(255, 0, 0);\"></td></tr><tr><td title=\"Index: [1, 0]&#10;Color: (28, 0, 0)\" style=\"width: 30px; height: 30px;background-color: rgb(28, 0, 0);\"></td><td title=\"Index: [1, 1]&#10;Color: (85, 0, 0)\" style=\"width: 30px; height: 30px;background-color: rgb(85, 0, 0);\"></td><td title=\"Index: [1, 2]&#10;Color: (141, 0, 0)\" style=\"width: 30px; height: 30px;background-color: rgb(141, 0, 0);\"></td><td title=\"Index: [1, 3]&#10;Color: (198, 0, 0)\" style=\"width: 30px; height: 30px;background-color: rgb(198, 0, 0);\"></td><td title=\"Index: [1, 4]&#10;Color: (255, 0, 0)\" style=\"width: 30px; height: 30px;background-color: rgb(255, 0, 0);\"></td></tr><tr><td title=\"Index: [2, 0]&#10;Color: (28, 0, 0)\" style=\"width: 30px; height: 30px;background-color: rgb(28, 0, 0);\"></td><td title=\"Index: [2, 1]&#10;Color: (85, 0, 0)\" style=\"width: 30px; height: 30px;background-color: rgb(85, 0, 0);\"></td><td title=\"Index: [2, 2]&#10;Color: (141, 0, 0)\" style=\"width: 30px; height: 30px;background-color: rgb(141, 0, 0);\"></td><td title=\"Index: [2, 3]&#10;Color: (198, 0, 0)\" style=\"width: 30px; height: 30px;background-color: rgb(198, 0, 0);\"></td><td title=\"Index: [2, 4]&#10;Color: (255, 0, 0)\" style=\"width: 30px; height: 30px;background-color: rgb(255, 0, 0);\"></td></tr><tr><td title=\"Index: [3, 0]&#10;Color: (28, 0, 0)\" style=\"width: 30px; height: 30px;background-color: rgb(28, 0, 0);\"></td><td title=\"Index: [3, 1]&#10;Color: (85, 0, 0)\" style=\"width: 30px; height: 30px;background-color: rgb(85, 0, 0);\"></td><td title=\"Index: [3, 2]&#10;Color: (141, 0, 0)\" style=\"width: 30px; height: 30px;background-color: rgb(141, 0, 0);\"></td><td title=\"Index: [3, 3]&#10;Color: (198, 0, 0)\" style=\"width: 30px; height: 30px;background-color: rgb(198, 0, 0);\"></td><td title=\"Index: [3, 4]&#10;Color: (255, 0, 0)\" style=\"width: 30px; height: 30px;background-color: rgb(255, 0, 0);\"></td></tr><tr><td title=\"Index: [4, 0]&#10;Color: (28, 0, 0)\" style=\"width: 30px; height: 30px;background-color: rgb(28, 0, 0);\"></td><td title=\"Index: [4, 1]&#10;Color: (85, 0, 0)\" style=\"width: 30px; height: 30px;background-color: rgb(85, 0, 0);\"></td><td title=\"Index: [4, 2]&#10;Color: (141, 0, 0)\" style=\"width: 30px; height: 30px;background-color: rgb(141, 0, 0);\"></td><td title=\"Index: [4, 3]&#10;Color: (198, 0, 0)\" style=\"width: 30px; height: 30px;background-color: rgb(198, 0, 0);\"></td><td title=\"Index: [4, 4]&#10;Color: (255, 0, 0)\" style=\"width: 30px; height: 30px;background-color: rgb(255, 0, 0);\"></td></tr></tbody></table>"
      ],
      "text/plain": [
       "<ipythonblocks.ipythonblocks.BlockGrid at 0x2e8f4922710>"
      ]
     },
     "execution_count": 37,
     "metadata": {},
     "output_type": "execute_result"
    }
   ],
   "source": [
    "affiche_ipythonblocks(degrade_Est)"
   ]
  },
  {
   "cell_type": "code",
   "execution_count": 38,
   "metadata": {},
   "outputs": [
    {
     "data": {
      "text/latex": [
       "$$\\begin{pmatrix}& 1 & 1 & 1 & 1 & 1 & \\\\& 3 & 3 & 3 & 3 & 3 & \\\\& 5 & 5 & 5 & 5 & 5 & \\\\& 7 & 7 & 7 & 7 & 7 & \\\\& 9 & 9 & 9 & 9 & 9 & \\\\\\end{pmatrix}$$"
      ],
      "text/plain": [
       "<IPython.core.display.Latex object>"
      ]
     },
     "execution_count": 38,
     "metadata": {},
     "output_type": "execute_result"
    }
   ],
   "source": [
    "degrade_Sud = transpose(degrade_Est)\n",
    "affiche_latex(degrade_Sud)"
   ]
  },
  {
   "cell_type": "code",
   "execution_count": 39,
   "metadata": {},
   "outputs": [
    {
     "data": {
      "text/html": [
       "<style type=\"text/css\">table.blockgrid {border: none;} .blockgrid tr {border: none;} .blockgrid td {padding: 0px;} #blocksd464dccd-0f50-4562-8299-4d80372f87e3 td {border: 1px solid white;}</style><table id=\"blocksd464dccd-0f50-4562-8299-4d80372f87e3\" class=\"blockgrid\"><tbody><tr><td title=\"Index: [0, 0]&#10;Color: (28, 0, 0)\" style=\"width: 30px; height: 30px;background-color: rgb(28, 0, 0);\"></td><td title=\"Index: [0, 1]&#10;Color: (28, 0, 0)\" style=\"width: 30px; height: 30px;background-color: rgb(28, 0, 0);\"></td><td title=\"Index: [0, 2]&#10;Color: (28, 0, 0)\" style=\"width: 30px; height: 30px;background-color: rgb(28, 0, 0);\"></td><td title=\"Index: [0, 3]&#10;Color: (28, 0, 0)\" style=\"width: 30px; height: 30px;background-color: rgb(28, 0, 0);\"></td><td title=\"Index: [0, 4]&#10;Color: (28, 0, 0)\" style=\"width: 30px; height: 30px;background-color: rgb(28, 0, 0);\"></td></tr><tr><td title=\"Index: [1, 0]&#10;Color: (85, 0, 0)\" style=\"width: 30px; height: 30px;background-color: rgb(85, 0, 0);\"></td><td title=\"Index: [1, 1]&#10;Color: (85, 0, 0)\" style=\"width: 30px; height: 30px;background-color: rgb(85, 0, 0);\"></td><td title=\"Index: [1, 2]&#10;Color: (85, 0, 0)\" style=\"width: 30px; height: 30px;background-color: rgb(85, 0, 0);\"></td><td title=\"Index: [1, 3]&#10;Color: (85, 0, 0)\" style=\"width: 30px; height: 30px;background-color: rgb(85, 0, 0);\"></td><td title=\"Index: [1, 4]&#10;Color: (85, 0, 0)\" style=\"width: 30px; height: 30px;background-color: rgb(85, 0, 0);\"></td></tr><tr><td title=\"Index: [2, 0]&#10;Color: (141, 0, 0)\" style=\"width: 30px; height: 30px;background-color: rgb(141, 0, 0);\"></td><td title=\"Index: [2, 1]&#10;Color: (141, 0, 0)\" style=\"width: 30px; height: 30px;background-color: rgb(141, 0, 0);\"></td><td title=\"Index: [2, 2]&#10;Color: (141, 0, 0)\" style=\"width: 30px; height: 30px;background-color: rgb(141, 0, 0);\"></td><td title=\"Index: [2, 3]&#10;Color: (141, 0, 0)\" style=\"width: 30px; height: 30px;background-color: rgb(141, 0, 0);\"></td><td title=\"Index: [2, 4]&#10;Color: (141, 0, 0)\" style=\"width: 30px; height: 30px;background-color: rgb(141, 0, 0);\"></td></tr><tr><td title=\"Index: [3, 0]&#10;Color: (198, 0, 0)\" style=\"width: 30px; height: 30px;background-color: rgb(198, 0, 0);\"></td><td title=\"Index: [3, 1]&#10;Color: (198, 0, 0)\" style=\"width: 30px; height: 30px;background-color: rgb(198, 0, 0);\"></td><td title=\"Index: [3, 2]&#10;Color: (198, 0, 0)\" style=\"width: 30px; height: 30px;background-color: rgb(198, 0, 0);\"></td><td title=\"Index: [3, 3]&#10;Color: (198, 0, 0)\" style=\"width: 30px; height: 30px;background-color: rgb(198, 0, 0);\"></td><td title=\"Index: [3, 4]&#10;Color: (198, 0, 0)\" style=\"width: 30px; height: 30px;background-color: rgb(198, 0, 0);\"></td></tr><tr><td title=\"Index: [4, 0]&#10;Color: (255, 0, 0)\" style=\"width: 30px; height: 30px;background-color: rgb(255, 0, 0);\"></td><td title=\"Index: [4, 1]&#10;Color: (255, 0, 0)\" style=\"width: 30px; height: 30px;background-color: rgb(255, 0, 0);\"></td><td title=\"Index: [4, 2]&#10;Color: (255, 0, 0)\" style=\"width: 30px; height: 30px;background-color: rgb(255, 0, 0);\"></td><td title=\"Index: [4, 3]&#10;Color: (255, 0, 0)\" style=\"width: 30px; height: 30px;background-color: rgb(255, 0, 0);\"></td><td title=\"Index: [4, 4]&#10;Color: (255, 0, 0)\" style=\"width: 30px; height: 30px;background-color: rgb(255, 0, 0);\"></td></tr></tbody></table>"
      ],
      "text/plain": [
       "<ipythonblocks.ipythonblocks.BlockGrid at 0x2e8f49d1a20>"
      ]
     },
     "execution_count": 39,
     "metadata": {},
     "output_type": "execute_result"
    }
   ],
   "source": [
    "affiche_ipythonblocks(degrade_Sud)"
   ]
  },
  {
   "cell_type": "code",
   "execution_count": 40,
   "metadata": {},
   "outputs": [
    {
     "data": {
      "text/latex": [
       "$$\\begin{pmatrix}& 9 & 7 & 5 & 3 & 1 & \\\\& 9 & 7 & 5 & 3 & 1 & \\\\& 9 & 7 & 5 & 3 & 1 & \\\\& 9 & 7 & 5 & 3 & 1 & \\\\& 9 & 7 & 5 & 3 & 1 & \\\\\\end{pmatrix}$$"
      ],
      "text/plain": [
       "<IPython.core.display.Latex object>"
      ]
     },
     "execution_count": 40,
     "metadata": {},
     "output_type": "execute_result"
    }
   ],
   "source": [
    "degrade_Ouest = [[10 - j for j in degrade_Est[i]] for i in range(5)] # Version 1\n",
    "affiche_latex(degrade_Ouest)"
   ]
  },
  {
   "cell_type": "code",
   "execution_count": 41,
   "metadata": {},
   "outputs": [
    {
     "data": {
      "text/latex": [
       "$$\\begin{pmatrix}& 9 & 7 & 5 & 3 & 1 & \\\\& 9 & 7 & 5 & 3 & 1 & \\\\& 9 & 7 & 5 & 3 & 1 & \\\\& 9 & 7 & 5 & 3 & 1 & \\\\& 9 & 7 & 5 & 3 & 1 & \\\\\\end{pmatrix}$$"
      ],
      "text/plain": [
       "<IPython.core.display.Latex object>"
      ]
     },
     "execution_count": 41,
     "metadata": {},
     "output_type": "execute_result"
    }
   ],
   "source": [
    "degrade_Ouest = [[j for j in range(10) if j % 2 == 1][::-1] for i in range(5)] # Version 2 ne fonctionne pas sur TigerJython\n",
    "affiche_latex(degrade_Ouest)"
   ]
  },
  {
   "cell_type": "code",
   "execution_count": 42,
   "metadata": {},
   "outputs": [
    {
     "data": {
      "text/html": [
       "<style type=\"text/css\">table.blockgrid {border: none;} .blockgrid tr {border: none;} .blockgrid td {padding: 0px;} #blocks4753fd0a-b0f0-4b1e-8b69-b5f14c863e8e td {border: 1px solid white;}</style><table id=\"blocks4753fd0a-b0f0-4b1e-8b69-b5f14c863e8e\" class=\"blockgrid\"><tbody><tr><td title=\"Index: [0, 0]&#10;Color: (255, 0, 0)\" style=\"width: 30px; height: 30px;background-color: rgb(255, 0, 0);\"></td><td title=\"Index: [0, 1]&#10;Color: (198, 0, 0)\" style=\"width: 30px; height: 30px;background-color: rgb(198, 0, 0);\"></td><td title=\"Index: [0, 2]&#10;Color: (141, 0, 0)\" style=\"width: 30px; height: 30px;background-color: rgb(141, 0, 0);\"></td><td title=\"Index: [0, 3]&#10;Color: (85, 0, 0)\" style=\"width: 30px; height: 30px;background-color: rgb(85, 0, 0);\"></td><td title=\"Index: [0, 4]&#10;Color: (28, 0, 0)\" style=\"width: 30px; height: 30px;background-color: rgb(28, 0, 0);\"></td></tr><tr><td title=\"Index: [1, 0]&#10;Color: (255, 0, 0)\" style=\"width: 30px; height: 30px;background-color: rgb(255, 0, 0);\"></td><td title=\"Index: [1, 1]&#10;Color: (198, 0, 0)\" style=\"width: 30px; height: 30px;background-color: rgb(198, 0, 0);\"></td><td title=\"Index: [1, 2]&#10;Color: (141, 0, 0)\" style=\"width: 30px; height: 30px;background-color: rgb(141, 0, 0);\"></td><td title=\"Index: [1, 3]&#10;Color: (85, 0, 0)\" style=\"width: 30px; height: 30px;background-color: rgb(85, 0, 0);\"></td><td title=\"Index: [1, 4]&#10;Color: (28, 0, 0)\" style=\"width: 30px; height: 30px;background-color: rgb(28, 0, 0);\"></td></tr><tr><td title=\"Index: [2, 0]&#10;Color: (255, 0, 0)\" style=\"width: 30px; height: 30px;background-color: rgb(255, 0, 0);\"></td><td title=\"Index: [2, 1]&#10;Color: (198, 0, 0)\" style=\"width: 30px; height: 30px;background-color: rgb(198, 0, 0);\"></td><td title=\"Index: [2, 2]&#10;Color: (141, 0, 0)\" style=\"width: 30px; height: 30px;background-color: rgb(141, 0, 0);\"></td><td title=\"Index: [2, 3]&#10;Color: (85, 0, 0)\" style=\"width: 30px; height: 30px;background-color: rgb(85, 0, 0);\"></td><td title=\"Index: [2, 4]&#10;Color: (28, 0, 0)\" style=\"width: 30px; height: 30px;background-color: rgb(28, 0, 0);\"></td></tr><tr><td title=\"Index: [3, 0]&#10;Color: (255, 0, 0)\" style=\"width: 30px; height: 30px;background-color: rgb(255, 0, 0);\"></td><td title=\"Index: [3, 1]&#10;Color: (198, 0, 0)\" style=\"width: 30px; height: 30px;background-color: rgb(198, 0, 0);\"></td><td title=\"Index: [3, 2]&#10;Color: (141, 0, 0)\" style=\"width: 30px; height: 30px;background-color: rgb(141, 0, 0);\"></td><td title=\"Index: [3, 3]&#10;Color: (85, 0, 0)\" style=\"width: 30px; height: 30px;background-color: rgb(85, 0, 0);\"></td><td title=\"Index: [3, 4]&#10;Color: (28, 0, 0)\" style=\"width: 30px; height: 30px;background-color: rgb(28, 0, 0);\"></td></tr><tr><td title=\"Index: [4, 0]&#10;Color: (255, 0, 0)\" style=\"width: 30px; height: 30px;background-color: rgb(255, 0, 0);\"></td><td title=\"Index: [4, 1]&#10;Color: (198, 0, 0)\" style=\"width: 30px; height: 30px;background-color: rgb(198, 0, 0);\"></td><td title=\"Index: [4, 2]&#10;Color: (141, 0, 0)\" style=\"width: 30px; height: 30px;background-color: rgb(141, 0, 0);\"></td><td title=\"Index: [4, 3]&#10;Color: (85, 0, 0)\" style=\"width: 30px; height: 30px;background-color: rgb(85, 0, 0);\"></td><td title=\"Index: [4, 4]&#10;Color: (28, 0, 0)\" style=\"width: 30px; height: 30px;background-color: rgb(28, 0, 0);\"></td></tr></tbody></table>"
      ],
      "text/plain": [
       "<ipythonblocks.ipythonblocks.BlockGrid at 0x2e8f4527d68>"
      ]
     },
     "execution_count": 42,
     "metadata": {},
     "output_type": "execute_result"
    }
   ],
   "source": [
    "affiche_ipythonblocks(degrade_Ouest)"
   ]
  },
  {
   "cell_type": "code",
   "execution_count": 43,
   "metadata": {},
   "outputs": [
    {
     "data": {
      "text/latex": [
       "$$\\begin{pmatrix}& 9 & 9 & 9 & 9 & 9 & \\\\& 7 & 7 & 7 & 7 & 7 & \\\\& 5 & 5 & 5 & 5 & 5 & \\\\& 3 & 3 & 3 & 3 & 3 & \\\\& 1 & 1 & 1 & 1 & 1 & \\\\\\end{pmatrix}$$"
      ],
      "text/plain": [
       "<IPython.core.display.Latex object>"
      ]
     },
     "execution_count": 43,
     "metadata": {},
     "output_type": "execute_result"
    }
   ],
   "source": [
    "degrade_Nord = transpose(degrade_Ouest)\n",
    "affiche_latex(degrade_Nord)"
   ]
  },
  {
   "cell_type": "code",
   "execution_count": 44,
   "metadata": {},
   "outputs": [
    {
     "data": {
      "text/html": [
       "<style type=\"text/css\">table.blockgrid {border: none;} .blockgrid tr {border: none;} .blockgrid td {padding: 0px;} #blocks52902e01-5829-4ea5-87e5-1c49b2c22861 td {border: 1px solid white;}</style><table id=\"blocks52902e01-5829-4ea5-87e5-1c49b2c22861\" class=\"blockgrid\"><tbody><tr><td title=\"Index: [0, 0]&#10;Color: (255, 0, 0)\" style=\"width: 30px; height: 30px;background-color: rgb(255, 0, 0);\"></td><td title=\"Index: [0, 1]&#10;Color: (255, 0, 0)\" style=\"width: 30px; height: 30px;background-color: rgb(255, 0, 0);\"></td><td title=\"Index: [0, 2]&#10;Color: (255, 0, 0)\" style=\"width: 30px; height: 30px;background-color: rgb(255, 0, 0);\"></td><td title=\"Index: [0, 3]&#10;Color: (255, 0, 0)\" style=\"width: 30px; height: 30px;background-color: rgb(255, 0, 0);\"></td><td title=\"Index: [0, 4]&#10;Color: (255, 0, 0)\" style=\"width: 30px; height: 30px;background-color: rgb(255, 0, 0);\"></td></tr><tr><td title=\"Index: [1, 0]&#10;Color: (198, 0, 0)\" style=\"width: 30px; height: 30px;background-color: rgb(198, 0, 0);\"></td><td title=\"Index: [1, 1]&#10;Color: (198, 0, 0)\" style=\"width: 30px; height: 30px;background-color: rgb(198, 0, 0);\"></td><td title=\"Index: [1, 2]&#10;Color: (198, 0, 0)\" style=\"width: 30px; height: 30px;background-color: rgb(198, 0, 0);\"></td><td title=\"Index: [1, 3]&#10;Color: (198, 0, 0)\" style=\"width: 30px; height: 30px;background-color: rgb(198, 0, 0);\"></td><td title=\"Index: [1, 4]&#10;Color: (198, 0, 0)\" style=\"width: 30px; height: 30px;background-color: rgb(198, 0, 0);\"></td></tr><tr><td title=\"Index: [2, 0]&#10;Color: (141, 0, 0)\" style=\"width: 30px; height: 30px;background-color: rgb(141, 0, 0);\"></td><td title=\"Index: [2, 1]&#10;Color: (141, 0, 0)\" style=\"width: 30px; height: 30px;background-color: rgb(141, 0, 0);\"></td><td title=\"Index: [2, 2]&#10;Color: (141, 0, 0)\" style=\"width: 30px; height: 30px;background-color: rgb(141, 0, 0);\"></td><td title=\"Index: [2, 3]&#10;Color: (141, 0, 0)\" style=\"width: 30px; height: 30px;background-color: rgb(141, 0, 0);\"></td><td title=\"Index: [2, 4]&#10;Color: (141, 0, 0)\" style=\"width: 30px; height: 30px;background-color: rgb(141, 0, 0);\"></td></tr><tr><td title=\"Index: [3, 0]&#10;Color: (85, 0, 0)\" style=\"width: 30px; height: 30px;background-color: rgb(85, 0, 0);\"></td><td title=\"Index: [3, 1]&#10;Color: (85, 0, 0)\" style=\"width: 30px; height: 30px;background-color: rgb(85, 0, 0);\"></td><td title=\"Index: [3, 2]&#10;Color: (85, 0, 0)\" style=\"width: 30px; height: 30px;background-color: rgb(85, 0, 0);\"></td><td title=\"Index: [3, 3]&#10;Color: (85, 0, 0)\" style=\"width: 30px; height: 30px;background-color: rgb(85, 0, 0);\"></td><td title=\"Index: [3, 4]&#10;Color: (85, 0, 0)\" style=\"width: 30px; height: 30px;background-color: rgb(85, 0, 0);\"></td></tr><tr><td title=\"Index: [4, 0]&#10;Color: (28, 0, 0)\" style=\"width: 30px; height: 30px;background-color: rgb(28, 0, 0);\"></td><td title=\"Index: [4, 1]&#10;Color: (28, 0, 0)\" style=\"width: 30px; height: 30px;background-color: rgb(28, 0, 0);\"></td><td title=\"Index: [4, 2]&#10;Color: (28, 0, 0)\" style=\"width: 30px; height: 30px;background-color: rgb(28, 0, 0);\"></td><td title=\"Index: [4, 3]&#10;Color: (28, 0, 0)\" style=\"width: 30px; height: 30px;background-color: rgb(28, 0, 0);\"></td><td title=\"Index: [4, 4]&#10;Color: (28, 0, 0)\" style=\"width: 30px; height: 30px;background-color: rgb(28, 0, 0);\"></td></tr></tbody></table>"
      ],
      "text/plain": [
       "<ipythonblocks.ipythonblocks.BlockGrid at 0x2e8f49d9eb8>"
      ]
     },
     "execution_count": 44,
     "metadata": {},
     "output_type": "execute_result"
    }
   ],
   "source": [
    "affiche_ipythonblocks(degrade_Nord)"
   ]
  },
  {
   "cell_type": "code",
   "execution_count": 45,
   "metadata": {},
   "outputs": [
    {
     "data": {
      "text/latex": [
       "$$\\begin{pmatrix}& 1 & 2 & 3 & 4 & 5 & \\\\& 2 & 3 & 4 & 5 & 6 & \\\\& 3 & 4 & 5 & 6 & 7 & \\\\& 4 & 5 & 6 & 7 & 8 & \\\\& 5 & 6 & 7 & 8 & 9 & \\\\\\end{pmatrix}$$"
      ],
      "text/plain": [
       "<IPython.core.display.Latex object>"
      ]
     },
     "execution_count": 45,
     "metadata": {},
     "output_type": "execute_result"
    }
   ],
   "source": [
    "degrade_Sud_Est = [[(1+j+i) for j in range(5)] for i in range(5)]\n",
    "affiche_latex(degrade_Sud_Est)"
   ]
  },
  {
   "cell_type": "code",
   "execution_count": 46,
   "metadata": {},
   "outputs": [
    {
     "data": {
      "text/html": [
       "<style type=\"text/css\">table.blockgrid {border: none;} .blockgrid tr {border: none;} .blockgrid td {padding: 0px;} #blocksf1c15a0b-26df-464b-bcf7-ff9a417a6d11 td {border: 1px solid white;}</style><table id=\"blocksf1c15a0b-26df-464b-bcf7-ff9a417a6d11\" class=\"blockgrid\"><tbody><tr><td title=\"Index: [0, 0]&#10;Color: (28, 0, 0)\" style=\"width: 30px; height: 30px;background-color: rgb(28, 0, 0);\"></td><td title=\"Index: [0, 1]&#10;Color: (56, 0, 0)\" style=\"width: 30px; height: 30px;background-color: rgb(56, 0, 0);\"></td><td title=\"Index: [0, 2]&#10;Color: (85, 0, 0)\" style=\"width: 30px; height: 30px;background-color: rgb(85, 0, 0);\"></td><td title=\"Index: [0, 3]&#10;Color: (113, 0, 0)\" style=\"width: 30px; height: 30px;background-color: rgb(113, 0, 0);\"></td><td title=\"Index: [0, 4]&#10;Color: (141, 0, 0)\" style=\"width: 30px; height: 30px;background-color: rgb(141, 0, 0);\"></td></tr><tr><td title=\"Index: [1, 0]&#10;Color: (56, 0, 0)\" style=\"width: 30px; height: 30px;background-color: rgb(56, 0, 0);\"></td><td title=\"Index: [1, 1]&#10;Color: (85, 0, 0)\" style=\"width: 30px; height: 30px;background-color: rgb(85, 0, 0);\"></td><td title=\"Index: [1, 2]&#10;Color: (113, 0, 0)\" style=\"width: 30px; height: 30px;background-color: rgb(113, 0, 0);\"></td><td title=\"Index: [1, 3]&#10;Color: (141, 0, 0)\" style=\"width: 30px; height: 30px;background-color: rgb(141, 0, 0);\"></td><td title=\"Index: [1, 4]&#10;Color: (170, 0, 0)\" style=\"width: 30px; height: 30px;background-color: rgb(170, 0, 0);\"></td></tr><tr><td title=\"Index: [2, 0]&#10;Color: (85, 0, 0)\" style=\"width: 30px; height: 30px;background-color: rgb(85, 0, 0);\"></td><td title=\"Index: [2, 1]&#10;Color: (113, 0, 0)\" style=\"width: 30px; height: 30px;background-color: rgb(113, 0, 0);\"></td><td title=\"Index: [2, 2]&#10;Color: (141, 0, 0)\" style=\"width: 30px; height: 30px;background-color: rgb(141, 0, 0);\"></td><td title=\"Index: [2, 3]&#10;Color: (170, 0, 0)\" style=\"width: 30px; height: 30px;background-color: rgb(170, 0, 0);\"></td><td title=\"Index: [2, 4]&#10;Color: (198, 0, 0)\" style=\"width: 30px; height: 30px;background-color: rgb(198, 0, 0);\"></td></tr><tr><td title=\"Index: [3, 0]&#10;Color: (113, 0, 0)\" style=\"width: 30px; height: 30px;background-color: rgb(113, 0, 0);\"></td><td title=\"Index: [3, 1]&#10;Color: (141, 0, 0)\" style=\"width: 30px; height: 30px;background-color: rgb(141, 0, 0);\"></td><td title=\"Index: [3, 2]&#10;Color: (170, 0, 0)\" style=\"width: 30px; height: 30px;background-color: rgb(170, 0, 0);\"></td><td title=\"Index: [3, 3]&#10;Color: (198, 0, 0)\" style=\"width: 30px; height: 30px;background-color: rgb(198, 0, 0);\"></td><td title=\"Index: [3, 4]&#10;Color: (226, 0, 0)\" style=\"width: 30px; height: 30px;background-color: rgb(226, 0, 0);\"></td></tr><tr><td title=\"Index: [4, 0]&#10;Color: (141, 0, 0)\" style=\"width: 30px; height: 30px;background-color: rgb(141, 0, 0);\"></td><td title=\"Index: [4, 1]&#10;Color: (170, 0, 0)\" style=\"width: 30px; height: 30px;background-color: rgb(170, 0, 0);\"></td><td title=\"Index: [4, 2]&#10;Color: (198, 0, 0)\" style=\"width: 30px; height: 30px;background-color: rgb(198, 0, 0);\"></td><td title=\"Index: [4, 3]&#10;Color: (226, 0, 0)\" style=\"width: 30px; height: 30px;background-color: rgb(226, 0, 0);\"></td><td title=\"Index: [4, 4]&#10;Color: (255, 0, 0)\" style=\"width: 30px; height: 30px;background-color: rgb(255, 0, 0);\"></td></tr></tbody></table>"
      ],
      "text/plain": [
       "<ipythonblocks.ipythonblocks.BlockGrid at 0x2e8f49bd4a8>"
      ]
     },
     "execution_count": 46,
     "metadata": {},
     "output_type": "execute_result"
    }
   ],
   "source": [
    "affiche_ipythonblocks(degrade_Sud_Est)"
   ]
  },
  {
   "cell_type": "code",
   "execution_count": 47,
   "metadata": {},
   "outputs": [
    {
     "data": {
      "text/latex": [
       "$$\\begin{pmatrix}& 5 & 6 & 7 & 8 & 9 & \\\\& 4 & 5 & 6 & 7 & 8 & \\\\& 3 & 4 & 5 & 6 & 7 & \\\\& 2 & 3 & 4 & 5 & 6 & \\\\& 1 & 2 & 3 & 4 & 5 & \\\\\\end{pmatrix}$$"
      ],
      "text/plain": [
       "<IPython.core.display.Latex object>"
      ]
     },
     "execution_count": 47,
     "metadata": {},
     "output_type": "execute_result"
    }
   ],
   "source": [
    "degrade_Nord_Est = degrade_Sud_Est[::-1]\n",
    "affiche_latex(degrade_Nord_Est)"
   ]
  },
  {
   "cell_type": "code",
   "execution_count": 48,
   "metadata": {},
   "outputs": [
    {
     "data": {
      "text/html": [
       "<style type=\"text/css\">table.blockgrid {border: none;} .blockgrid tr {border: none;} .blockgrid td {padding: 0px;} #blocks4e239f2b-7f83-4bfc-9b8b-8717df2b271f td {border: 1px solid white;}</style><table id=\"blocks4e239f2b-7f83-4bfc-9b8b-8717df2b271f\" class=\"blockgrid\"><tbody><tr><td title=\"Index: [0, 0]&#10;Color: (141, 0, 0)\" style=\"width: 30px; height: 30px;background-color: rgb(141, 0, 0);\"></td><td title=\"Index: [0, 1]&#10;Color: (170, 0, 0)\" style=\"width: 30px; height: 30px;background-color: rgb(170, 0, 0);\"></td><td title=\"Index: [0, 2]&#10;Color: (198, 0, 0)\" style=\"width: 30px; height: 30px;background-color: rgb(198, 0, 0);\"></td><td title=\"Index: [0, 3]&#10;Color: (226, 0, 0)\" style=\"width: 30px; height: 30px;background-color: rgb(226, 0, 0);\"></td><td title=\"Index: [0, 4]&#10;Color: (255, 0, 0)\" style=\"width: 30px; height: 30px;background-color: rgb(255, 0, 0);\"></td></tr><tr><td title=\"Index: [1, 0]&#10;Color: (113, 0, 0)\" style=\"width: 30px; height: 30px;background-color: rgb(113, 0, 0);\"></td><td title=\"Index: [1, 1]&#10;Color: (141, 0, 0)\" style=\"width: 30px; height: 30px;background-color: rgb(141, 0, 0);\"></td><td title=\"Index: [1, 2]&#10;Color: (170, 0, 0)\" style=\"width: 30px; height: 30px;background-color: rgb(170, 0, 0);\"></td><td title=\"Index: [1, 3]&#10;Color: (198, 0, 0)\" style=\"width: 30px; height: 30px;background-color: rgb(198, 0, 0);\"></td><td title=\"Index: [1, 4]&#10;Color: (226, 0, 0)\" style=\"width: 30px; height: 30px;background-color: rgb(226, 0, 0);\"></td></tr><tr><td title=\"Index: [2, 0]&#10;Color: (85, 0, 0)\" style=\"width: 30px; height: 30px;background-color: rgb(85, 0, 0);\"></td><td title=\"Index: [2, 1]&#10;Color: (113, 0, 0)\" style=\"width: 30px; height: 30px;background-color: rgb(113, 0, 0);\"></td><td title=\"Index: [2, 2]&#10;Color: (141, 0, 0)\" style=\"width: 30px; height: 30px;background-color: rgb(141, 0, 0);\"></td><td title=\"Index: [2, 3]&#10;Color: (170, 0, 0)\" style=\"width: 30px; height: 30px;background-color: rgb(170, 0, 0);\"></td><td title=\"Index: [2, 4]&#10;Color: (198, 0, 0)\" style=\"width: 30px; height: 30px;background-color: rgb(198, 0, 0);\"></td></tr><tr><td title=\"Index: [3, 0]&#10;Color: (56, 0, 0)\" style=\"width: 30px; height: 30px;background-color: rgb(56, 0, 0);\"></td><td title=\"Index: [3, 1]&#10;Color: (85, 0, 0)\" style=\"width: 30px; height: 30px;background-color: rgb(85, 0, 0);\"></td><td title=\"Index: [3, 2]&#10;Color: (113, 0, 0)\" style=\"width: 30px; height: 30px;background-color: rgb(113, 0, 0);\"></td><td title=\"Index: [3, 3]&#10;Color: (141, 0, 0)\" style=\"width: 30px; height: 30px;background-color: rgb(141, 0, 0);\"></td><td title=\"Index: [3, 4]&#10;Color: (170, 0, 0)\" style=\"width: 30px; height: 30px;background-color: rgb(170, 0, 0);\"></td></tr><tr><td title=\"Index: [4, 0]&#10;Color: (28, 0, 0)\" style=\"width: 30px; height: 30px;background-color: rgb(28, 0, 0);\"></td><td title=\"Index: [4, 1]&#10;Color: (56, 0, 0)\" style=\"width: 30px; height: 30px;background-color: rgb(56, 0, 0);\"></td><td title=\"Index: [4, 2]&#10;Color: (85, 0, 0)\" style=\"width: 30px; height: 30px;background-color: rgb(85, 0, 0);\"></td><td title=\"Index: [4, 3]&#10;Color: (113, 0, 0)\" style=\"width: 30px; height: 30px;background-color: rgb(113, 0, 0);\"></td><td title=\"Index: [4, 4]&#10;Color: (141, 0, 0)\" style=\"width: 30px; height: 30px;background-color: rgb(141, 0, 0);\"></td></tr></tbody></table>"
      ],
      "text/plain": [
       "<ipythonblocks.ipythonblocks.BlockGrid at 0x2e8f49d9b38>"
      ]
     },
     "execution_count": 48,
     "metadata": {},
     "output_type": "execute_result"
    }
   ],
   "source": [
    "affiche_ipythonblocks(degrade_Nord_Est)"
   ]
  },
  {
   "cell_type": "code",
   "execution_count": 49,
   "metadata": {
    "scrolled": true
   },
   "outputs": [
    {
     "data": {
      "text/latex": [
       "$$\\begin{pmatrix}& 9 & 8 & 7 & 6 & 5 & \\\\& 8 & 7 & 6 & 5 & 4 & \\\\& 7 & 6 & 5 & 4 & 3 & \\\\& 6 & 5 & 4 & 3 & 2 & \\\\& 5 & 4 & 3 & 2 & 1 & \\\\\\end{pmatrix}$$"
      ],
      "text/plain": [
       "<IPython.core.display.Latex object>"
      ]
     },
     "execution_count": 49,
     "metadata": {},
     "output_type": "execute_result"
    }
   ],
   "source": [
    "degrade_Nord_Ouest = [[(9-j-i) for j in range(5)] for i in range(5)]\n",
    "affiche_latex(degrade_Nord_Ouest)"
   ]
  },
  {
   "cell_type": "code",
   "execution_count": 50,
   "metadata": {},
   "outputs": [
    {
     "data": {
      "text/html": [
       "<style type=\"text/css\">table.blockgrid {border: none;} .blockgrid tr {border: none;} .blockgrid td {padding: 0px;} #blocks29d5595d-64df-40bf-afd4-4c3c44c8a4d6 td {border: 1px solid white;}</style><table id=\"blocks29d5595d-64df-40bf-afd4-4c3c44c8a4d6\" class=\"blockgrid\"><tbody><tr><td title=\"Index: [0, 0]&#10;Color: (255, 0, 0)\" style=\"width: 30px; height: 30px;background-color: rgb(255, 0, 0);\"></td><td title=\"Index: [0, 1]&#10;Color: (226, 0, 0)\" style=\"width: 30px; height: 30px;background-color: rgb(226, 0, 0);\"></td><td title=\"Index: [0, 2]&#10;Color: (198, 0, 0)\" style=\"width: 30px; height: 30px;background-color: rgb(198, 0, 0);\"></td><td title=\"Index: [0, 3]&#10;Color: (170, 0, 0)\" style=\"width: 30px; height: 30px;background-color: rgb(170, 0, 0);\"></td><td title=\"Index: [0, 4]&#10;Color: (141, 0, 0)\" style=\"width: 30px; height: 30px;background-color: rgb(141, 0, 0);\"></td></tr><tr><td title=\"Index: [1, 0]&#10;Color: (226, 0, 0)\" style=\"width: 30px; height: 30px;background-color: rgb(226, 0, 0);\"></td><td title=\"Index: [1, 1]&#10;Color: (198, 0, 0)\" style=\"width: 30px; height: 30px;background-color: rgb(198, 0, 0);\"></td><td title=\"Index: [1, 2]&#10;Color: (170, 0, 0)\" style=\"width: 30px; height: 30px;background-color: rgb(170, 0, 0);\"></td><td title=\"Index: [1, 3]&#10;Color: (141, 0, 0)\" style=\"width: 30px; height: 30px;background-color: rgb(141, 0, 0);\"></td><td title=\"Index: [1, 4]&#10;Color: (113, 0, 0)\" style=\"width: 30px; height: 30px;background-color: rgb(113, 0, 0);\"></td></tr><tr><td title=\"Index: [2, 0]&#10;Color: (198, 0, 0)\" style=\"width: 30px; height: 30px;background-color: rgb(198, 0, 0);\"></td><td title=\"Index: [2, 1]&#10;Color: (170, 0, 0)\" style=\"width: 30px; height: 30px;background-color: rgb(170, 0, 0);\"></td><td title=\"Index: [2, 2]&#10;Color: (141, 0, 0)\" style=\"width: 30px; height: 30px;background-color: rgb(141, 0, 0);\"></td><td title=\"Index: [2, 3]&#10;Color: (113, 0, 0)\" style=\"width: 30px; height: 30px;background-color: rgb(113, 0, 0);\"></td><td title=\"Index: [2, 4]&#10;Color: (85, 0, 0)\" style=\"width: 30px; height: 30px;background-color: rgb(85, 0, 0);\"></td></tr><tr><td title=\"Index: [3, 0]&#10;Color: (170, 0, 0)\" style=\"width: 30px; height: 30px;background-color: rgb(170, 0, 0);\"></td><td title=\"Index: [3, 1]&#10;Color: (141, 0, 0)\" style=\"width: 30px; height: 30px;background-color: rgb(141, 0, 0);\"></td><td title=\"Index: [3, 2]&#10;Color: (113, 0, 0)\" style=\"width: 30px; height: 30px;background-color: rgb(113, 0, 0);\"></td><td title=\"Index: [3, 3]&#10;Color: (85, 0, 0)\" style=\"width: 30px; height: 30px;background-color: rgb(85, 0, 0);\"></td><td title=\"Index: [3, 4]&#10;Color: (56, 0, 0)\" style=\"width: 30px; height: 30px;background-color: rgb(56, 0, 0);\"></td></tr><tr><td title=\"Index: [4, 0]&#10;Color: (141, 0, 0)\" style=\"width: 30px; height: 30px;background-color: rgb(141, 0, 0);\"></td><td title=\"Index: [4, 1]&#10;Color: (113, 0, 0)\" style=\"width: 30px; height: 30px;background-color: rgb(113, 0, 0);\"></td><td title=\"Index: [4, 2]&#10;Color: (85, 0, 0)\" style=\"width: 30px; height: 30px;background-color: rgb(85, 0, 0);\"></td><td title=\"Index: [4, 3]&#10;Color: (56, 0, 0)\" style=\"width: 30px; height: 30px;background-color: rgb(56, 0, 0);\"></td><td title=\"Index: [4, 4]&#10;Color: (28, 0, 0)\" style=\"width: 30px; height: 30px;background-color: rgb(28, 0, 0);\"></td></tr></tbody></table>"
      ],
      "text/plain": [
       "<ipythonblocks.ipythonblocks.BlockGrid at 0x2e8f4922c88>"
      ]
     },
     "execution_count": 50,
     "metadata": {},
     "output_type": "execute_result"
    }
   ],
   "source": [
    "affiche_ipythonblocks(degrade_Nord_Ouest)"
   ]
  },
  {
   "cell_type": "code",
   "execution_count": 51,
   "metadata": {},
   "outputs": [
    {
     "data": {
      "text/latex": [
       "$$\\begin{pmatrix}& 5 & 4 & 3 & 2 & 1 & \\\\& 6 & 5 & 4 & 3 & 2 & \\\\& 7 & 6 & 5 & 4 & 3 & \\\\& 8 & 7 & 6 & 5 & 4 & \\\\& 9 & 8 & 7 & 6 & 5 & \\\\\\end{pmatrix}$$"
      ],
      "text/plain": [
       "<IPython.core.display.Latex object>"
      ]
     },
     "execution_count": 51,
     "metadata": {},
     "output_type": "execute_result"
    }
   ],
   "source": [
    "degrade_Sud_Ouest = degrade_Nord_Ouest[::-1]\n",
    "affiche_latex(degrade_Sud_Ouest)"
   ]
  },
  {
   "cell_type": "code",
   "execution_count": 52,
   "metadata": {},
   "outputs": [
    {
     "data": {
      "text/html": [
       "<style type=\"text/css\">table.blockgrid {border: none;} .blockgrid tr {border: none;} .blockgrid td {padding: 0px;} #blocks52b088d6-318e-4cb6-b290-718ac1804d12 td {border: 1px solid white;}</style><table id=\"blocks52b088d6-318e-4cb6-b290-718ac1804d12\" class=\"blockgrid\"><tbody><tr><td title=\"Index: [0, 0]&#10;Color: (141, 0, 0)\" style=\"width: 30px; height: 30px;background-color: rgb(141, 0, 0);\"></td><td title=\"Index: [0, 1]&#10;Color: (113, 0, 0)\" style=\"width: 30px; height: 30px;background-color: rgb(113, 0, 0);\"></td><td title=\"Index: [0, 2]&#10;Color: (85, 0, 0)\" style=\"width: 30px; height: 30px;background-color: rgb(85, 0, 0);\"></td><td title=\"Index: [0, 3]&#10;Color: (56, 0, 0)\" style=\"width: 30px; height: 30px;background-color: rgb(56, 0, 0);\"></td><td title=\"Index: [0, 4]&#10;Color: (28, 0, 0)\" style=\"width: 30px; height: 30px;background-color: rgb(28, 0, 0);\"></td></tr><tr><td title=\"Index: [1, 0]&#10;Color: (170, 0, 0)\" style=\"width: 30px; height: 30px;background-color: rgb(170, 0, 0);\"></td><td title=\"Index: [1, 1]&#10;Color: (141, 0, 0)\" style=\"width: 30px; height: 30px;background-color: rgb(141, 0, 0);\"></td><td title=\"Index: [1, 2]&#10;Color: (113, 0, 0)\" style=\"width: 30px; height: 30px;background-color: rgb(113, 0, 0);\"></td><td title=\"Index: [1, 3]&#10;Color: (85, 0, 0)\" style=\"width: 30px; height: 30px;background-color: rgb(85, 0, 0);\"></td><td title=\"Index: [1, 4]&#10;Color: (56, 0, 0)\" style=\"width: 30px; height: 30px;background-color: rgb(56, 0, 0);\"></td></tr><tr><td title=\"Index: [2, 0]&#10;Color: (198, 0, 0)\" style=\"width: 30px; height: 30px;background-color: rgb(198, 0, 0);\"></td><td title=\"Index: [2, 1]&#10;Color: (170, 0, 0)\" style=\"width: 30px; height: 30px;background-color: rgb(170, 0, 0);\"></td><td title=\"Index: [2, 2]&#10;Color: (141, 0, 0)\" style=\"width: 30px; height: 30px;background-color: rgb(141, 0, 0);\"></td><td title=\"Index: [2, 3]&#10;Color: (113, 0, 0)\" style=\"width: 30px; height: 30px;background-color: rgb(113, 0, 0);\"></td><td title=\"Index: [2, 4]&#10;Color: (85, 0, 0)\" style=\"width: 30px; height: 30px;background-color: rgb(85, 0, 0);\"></td></tr><tr><td title=\"Index: [3, 0]&#10;Color: (226, 0, 0)\" style=\"width: 30px; height: 30px;background-color: rgb(226, 0, 0);\"></td><td title=\"Index: [3, 1]&#10;Color: (198, 0, 0)\" style=\"width: 30px; height: 30px;background-color: rgb(198, 0, 0);\"></td><td title=\"Index: [3, 2]&#10;Color: (170, 0, 0)\" style=\"width: 30px; height: 30px;background-color: rgb(170, 0, 0);\"></td><td title=\"Index: [3, 3]&#10;Color: (141, 0, 0)\" style=\"width: 30px; height: 30px;background-color: rgb(141, 0, 0);\"></td><td title=\"Index: [3, 4]&#10;Color: (113, 0, 0)\" style=\"width: 30px; height: 30px;background-color: rgb(113, 0, 0);\"></td></tr><tr><td title=\"Index: [4, 0]&#10;Color: (255, 0, 0)\" style=\"width: 30px; height: 30px;background-color: rgb(255, 0, 0);\"></td><td title=\"Index: [4, 1]&#10;Color: (226, 0, 0)\" style=\"width: 30px; height: 30px;background-color: rgb(226, 0, 0);\"></td><td title=\"Index: [4, 2]&#10;Color: (198, 0, 0)\" style=\"width: 30px; height: 30px;background-color: rgb(198, 0, 0);\"></td><td title=\"Index: [4, 3]&#10;Color: (170, 0, 0)\" style=\"width: 30px; height: 30px;background-color: rgb(170, 0, 0);\"></td><td title=\"Index: [4, 4]&#10;Color: (141, 0, 0)\" style=\"width: 30px; height: 30px;background-color: rgb(141, 0, 0);\"></td></tr></tbody></table>"
      ],
      "text/plain": [
       "<ipythonblocks.ipythonblocks.BlockGrid at 0x2e8f49bddd8>"
      ]
     },
     "execution_count": 52,
     "metadata": {},
     "output_type": "execute_result"
    }
   ],
   "source": [
    "affiche_ipythonblocks(degrade_Sud_Ouest)"
   ]
  },
  {
   "cell_type": "code",
   "execution_count": null,
   "metadata": {},
   "outputs": [],
   "source": []
  },
  {
   "cell_type": "code",
   "execution_count": null,
   "metadata": {},
   "outputs": [],
   "source": []
  }
 ],
 "metadata": {
  "kernelspec": {
   "display_name": "Python 3",
   "language": "python",
   "name": "python3"
  },
  "language_info": {
   "codemirror_mode": {
    "name": "ipython",
    "version": 3
   },
   "file_extension": ".py",
   "mimetype": "text/x-python",
   "name": "python",
   "nbconvert_exporter": "python",
   "pygments_lexer": "ipython3",
   "version": "3.7.3"
  },
  "varInspector": {
   "cols": {
    "lenName": 16,
    "lenType": 16,
    "lenVar": 40
   },
   "kernels_config": {
    "python": {
     "delete_cmd_postfix": "",
     "delete_cmd_prefix": "del ",
     "library": "var_list.py",
     "varRefreshCmd": "print(var_dic_list())"
    },
    "r": {
     "delete_cmd_postfix": ") ",
     "delete_cmd_prefix": "rm(",
     "library": "var_list.r",
     "varRefreshCmd": "cat(var_dic_list()) "
    }
   },
   "types_to_exclude": [
    "module",
    "function",
    "builtin_function_or_method",
    "instance",
    "_Feature"
   ],
   "window_display": false
  }
 },
 "nbformat": 4,
 "nbformat_minor": 2
}
